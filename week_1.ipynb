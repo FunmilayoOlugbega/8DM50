{
 "cells": [
  {
   "cell_type": "markdown",
   "metadata": {},
   "source": [
    "# Getting started with the practicals\n",
    "\n",
    "***These notebooks are best viewed in Jupyter. GitHub might not display all content of the notebook properly.***\n",
    "\n",
    "## Goal of the practical exercises\n",
    "\n",
    "The exercises have two goals:\n",
    "\n",
    "1. Give you the opportunity to obtain 'hands-on' experience in implementing, training and evaluation machine learning models in Python. This experience will also help you better understand the theory covered during the lectures. \n",
    "\n",
    "2. Occasionally demonstrate some 'exam-style' questions that you can use as a reference when studying for the exam. Note however that the example questions are (as the name suggests) only examples and do not constitute a complete and sufficient list of 'things that you have to learn for the exam'. You can recognize example questions as (parts of) exercises by <font color=\"#770a0a\">this font color</font>.\n",
    "\n",
    "For each set of exercises (one Python notebook such as this one $==$ one set of exercises) you have to submit deliverables that will then be graded and constitute 25% of the final grade. Thus, the work that you do during the practicals has double contribution towards the final grade: as 25% direct contribution and as a preparation for the exam that will define the other 65% of the grade.\n",
    "\n",
    "## Deliverables\n",
    "\n",
    "For each set of exercises, you have to submit:\n",
    "1. Python functions and/or classes (`.py` files) that implement basic functionalities (e.g. a $k$-NN classifier) and \n",
    "2. A *single* Python notebook that contains the experiments, visualization and answer to the questions and math problems. *Do not submit your answers as Word or PDF documents (they will not be graded)*. The submitted code and notebook should run without errors and be able to fully reproduce the reported results.\n",
    "\n",
    "We recommend that you clone the provided notebooks (such as this one) and write your code in them. The following rubric will be used when grading the practical work:\n",
    "\n",
    "Component  | Insufficient | Satisfactory | Excellent\n",
    "--- | --- | --- | ---\n",
    "**Code** | Missing or incomplete code structure, runs with errors, lacks documentation | Self-contained, does not result in errors, contains some documentation, can be easily used to reproduce the reported results | User-friendly, well-structured (good separation of general functionality and experiments, i.e. between `.py` files and the Pyhthon notebook), detailed documentation, optimized for speed, <s>use of a version control system (such as GitHub)</s>\n",
    "**Answers to questions** | Incorrect, does not convey understanding of the material, appears to be copied from another source | Correct, conveys good understanding of the material, description in own words | Correct, conveys excellent level of understanding, makes connections between topics\n",
    "\n",
    "## A word on notation\n",
    "\n",
    "When we refer to Python variables, we will use a monospace font. For example, `X` is a Python variable that contains the data matrix. When we refer to mathematical variables, we will use the de-facto standard notation: $a$ or $\\lambda$ is a scalar variable, $\\boldsymbol{\\mathrm{w}}$ is a vector and $\\boldsymbol{\\mathrm{X}}$ is a matrix (e.g. a data matrix from the example above). You should use the same notation when writing your answers and solutions.\n",
    "\n",
    "# Two simple machine learning models\n",
    "\n",
    "## Preliminaries\n",
    "\n",
    "Throughout the practical curriculum of this course, we will use the Python programming language and its ecosystem of libraries for scientific computing (such as `numpy`, `scipy`, `matplotlib`, `scikit-learn` etc). The practicals for the deep learning part of the course will use the `keras` deep learning framework. If you are not sufficiently familiar with this programming language and/or the listed libraries and packages, you are strongly advised to go over the corresponding tutorials from the ['Essential skills'](https://github.com/tueimage/essential-skills) module (the `scikit-learn` library is not covered by the tutorial, however, an extensive documentation is available [here](https://scikit-learn.org/stable/documentation.html).\n",
    "\n",
    "In this first set of exercises, we will use two toy datasets that ship together with `scikit-learn`. \n",
    "\n",
    "The first dataset is named `diabetes` and contains 442 patients described with 10 features: age, sex, body mass index, average blood pressure, and six blood serum measurements. The target variable is a continuous quantitative measure of the disease (diabetes) progression one year after the baseline measurements were recorded. More information is available [here](https://github.com/scikit-learn/scikit-learn/blob/master/sklearn/datasets/descr/diabetes.rst) and [here](https://www4.stat.ncsu.edu/~boos/var.select/diabetes.html).\n",
    "\n",
    "The second dataset is named `breast_cancer` and is a copy of the UCI ML Breast Cancer Wisconsin (Diagnostic) datasets (more infortmation is available [here](https://github.com/scikit-learn/scikit-learn/blob/master/sklearn/datasets/descr/breast_cancer.rst) and [here](https://archive.ics.uci.edu/ml/datasets/Breast+Cancer+Wisconsin+(Diagnostic)). The datasets contains of 569 instances represented with 30 features that are computed from a images of a fine needle aspirate of a breast mass. The features describe characteristics of the cell nuclei present in the image. Each instance is associated with a binary target variable ('malignant' or 'benign'). \n",
    "\n",
    "You can load the two datasets in the following way:"
   ]
  },
  {
   "cell_type": "code",
   "execution_count": 5,
   "metadata": {},
   "outputs": [],
   "source": [
    "import numpy as np\n",
    "from sklearn.datasets import load_diabetes, load_breast_cancer\n",
    "\n",
    "diabetes = load_diabetes()\n",
    "\n",
    "breast_cancer = load_breast_cancer()"
   ]
  },
  {
   "cell_type": "markdown",
   "metadata": {},
   "source": [
    "In the majority of the exercises in this course, we will use higher-level libraries and packages such as `scikit-learn` and `keras` to implement, train and evaluate machine learning models. However, the goal of this first set of exercises is to illustrate basic mathematical tools and machine learning concepts. Because of this, we will impose a restriction of only using basic `numpy` functionality. Furthermore, you should as much as possible restrict the use of for-loops (e.g. use a vector-to-matrix product instead of a for loop when appropriate).\n",
    "\n",
    "If `X` is a 2D data matrix, we will use the convention that the rows of the matrix contain the samples (or instances) and the columns contain the features (inputs to the model). That means that a data matrix with a shape `(122, 13)` represents a dataset with 122 samples, each represented with 13 features. Similarly, if `Y` is a 2D matrix containing the targets, the rows correspond to the samples and the columns to the different targets (outputs of the model). Thus, if the shape of `Y` is `(122, 3)` that means that there are 122 samples and each sample is has 3 targets (note that in the majority of the examples we will only have a single target and thus the number of columns of `Y` will be 1).\n",
    "\n",
    "You can obtain the data and target matrices from the two datasets in the following way:"
   ]
  },
  {
   "cell_type": "code",
   "execution_count": 2,
   "metadata": {},
   "outputs": [
    {
     "name": "stdout",
     "output_type": "stream",
     "text": [
      "(442, 10)\n",
      "(442, 1)\n"
     ]
    }
   ],
   "source": [
    "X = diabetes.data\n",
    "Y = diabetes.target[:, np.newaxis]\n",
    "\n",
    "print(X.shape)\n",
    "print(Y.shape)"
   ]
  },
  {
   "cell_type": "markdown",
   "metadata": {},
   "source": [
    "If you want to only use a subset of the available features, you can obtain a reduced data matrix in the following way:"
   ]
  },
  {
   "cell_type": "code",
   "execution_count": 3,
   "metadata": {
    "scrolled": true
   },
   "outputs": [
    {
     "name": "stdout",
     "output_type": "stream",
     "text": [
      "(442, 1)\n",
      "(442, 2)\n"
     ]
    }
   ],
   "source": [
    "# use only the fourth feature\n",
    "X = diabetes.data[:, np.newaxis, 3]\n",
    "print(X.shape)\n",
    "\n",
    "# use the third, and tenth features\n",
    "X = diabetes.data[:, (3,9)]\n",
    "print(X.shape)"
   ]
  },
  {
   "cell_type": "markdown",
   "metadata": {},
   "source": [
    "***Question***: Why we need to use the `np.newaxis` expression in the examples above? \n",
    "\n",
    "Note that in all your experiments in the exercises, you should use and independent training and testing sets. You can split the dataset into a training and testing subsets in the following way:"
   ]
  },
  {
   "cell_type": "code",
   "execution_count": 4,
   "metadata": {},
   "outputs": [
    {
     "name": "stdout",
     "output_type": "stream",
     "text": [
      "(300, 1)\n",
      "(300, 1)\n",
      "(142, 1)\n",
      "(142, 1)\n"
     ]
    }
   ],
   "source": [
    "# use the fourth feature\n",
    "# use the first 300 training samples for training, and the rest for testing\n",
    "X_train = diabetes.data[:300, np.newaxis, 3]\n",
    "y_train = diabetes.target[:300, np.newaxis]\n",
    "X_test = diabetes.data[300:, np.newaxis, 3]\n",
    "y_test = diabetes.target[300:, np.newaxis]\n",
    "print(X_train.shape)\n",
    "print(y_train.shape)\n",
    "print(X_test.shape)\n",
    "print(y_test.shape)"
   ]
  },
  {
   "cell_type": "markdown",
   "metadata": {},
   "source": [
    "## Exercises\n",
    "\n",
    "### Linear regression\n",
    "\n",
    "Implement training and evaluation of a linear regression model on the diabetes dataset using only matrix multiplication, inversion and transpose operations. Report the mean squared error of the model.\n",
    "\n",
    "To get you started we have implemented the first part of this exercise (fitting of the model) as an example."
   ]
  },
  {
   "cell_type": "code",
   "execution_count": null,
   "metadata": {},
   "outputs": [],
   "source": [
    "# add subfolder that contains all the function implementations\n",
    "# to the system path so we can import them\n",
    "import sys\n",
    "sys.path.append('code/')\n",
    "\n",
    "# the actual implementation is in linear_regression.py,\n",
    "# here we will just use it to fit a model\n",
    "from linear_regression import *\n",
    "\n",
    "# load the dataset\n",
    "# same as before, but now we use all features\n",
    "X_train = diabetes.data[:300, :]\n",
    "y_train = diabetes.target[:300, np.newaxis]\n",
    "X_test = diabetes.data[300:, :]\n",
    "y_lest = diabetes.target[300:, np.newaxis]\n",
    "\n",
    "beta = lsq(X_train, y_train)\n",
    "\n",
    "# print the parameters\n",
    "print(beta)"
   ]
  },
  {
   "cell_type": "markdown",
   "metadata": {},
   "source": [
    "### Weighted linear regression\n",
    "\n",
    "Assume that in the dataset that you use to train a linear regression model, there are identical versions of some samples. This problem can be reformulated to a weighted linear regression problem where the matrices $\\boldsymbol{\\mathrm{X}}$ and $\\boldsymbol{\\mathrm{Y}}$ (or the vector $\\boldsymbol{\\mathrm{y}}$ if there is only a single target/output variable) contain only the unique data samples, and a vector $\\boldsymbol{\\mathrm{d}}$ is introduced that gives more weight to samples that appear multiple times in the original dataset (for example, the sample that appears 3 times has a corresponding weight of 3). \n",
    "\n",
    "<p><font color='#770a0a'>Derive the expression for the least-squares solution of a weighted linear regression model (note that in addition to the matrices $\\boldsymbol{\\mathrm{X}}$ and $\\boldsymbol{\\mathrm{Y}}$, the solution should include a vector of weights $\\boldsymbol{\\mathrm{d}}$).</font></p>"
   ]
  },
  {
   "cell_type": "markdown",
   "metadata": {},
   "source": [
    "### $k$-NN classification\n",
    "\n",
    "Implement a $k$-Nearest neighbors classifier from scratch in Python using only basic matrix operations with `numpy` and `scipy`. Train and evaluate the classifier on the breast cancer dataset, using all features. Show the performance of the classifier for different values of $k$ (plot the results in a graph). Note that for optimal results, you should normalize the features (e.g. to the $[0, 1]$ range or to have a zero mean and unit standard deviation)."
   ]
  },
  {
   "cell_type": "code",
   "execution_count": 1,
   "metadata": {},
   "outputs": [],
   "source": [
    "import numpy as np\n",
    "import matplotlib.pyplot as plt\n",
    "import scipy.spatial\n",
    "from collections import Counter\n",
    "from sklearn.preprocessing import StandardScaler\n",
    "from sklearn.model_selection import train_test_split\n",
    "from collections import defaultdict"
   ]
  },
  {
   "cell_type": "code",
   "execution_count": 2,
   "metadata": {},
   "outputs": [],
   "source": [
    "# Normalize the features to have zero mean and unit standard deviation\n",
    "#scaler = StandardScaler()\n",
    "#X=breast_cancer.data\n",
    "#y= breast_cancer.target\n",
    "#X_normalized = scaler.fit_transform(X)\n",
    "\n",
    "# Split the data into training and testing sets\n",
    "#X_train_cancer, X_test_cancer, y_train_cancer, y_test_cancer = train_test_split(X_normalized, y, test_size=0.3, random_state=42)\n",
    "#k values that we want to test\n",
    "#k_values=[2,3,4,5,6,9,12];"
   ]
  },
  {
   "cell_type": "code",
   "execution_count": 3,
   "metadata": {},
   "outputs": [],
   "source": [
    "# Define normalisation, then use it to spplit the array in its defined sets, train, validation and test\n",
    "\n",
    "def normalize_data(Data_array):\n",
    "    \"\"\"\n",
    "    This method will normalise array Data_array\n",
    "    \n",
    "    Parameter(s)\n",
    "    -----------\n",
    "    Data_array: array\n",
    "        An array with data points which will need to be normalised\n",
    "        \n",
    "    Return(s)\n",
    "    ----------\n",
    "    X_normalized: array\n",
    "        An array containing the normalised values of array Data_array\n",
    "    \"\"\"    \n",
    "    scaler = StandardScaler()\n",
    "    X_normalized = scaler.fit_transform(Data_array.data)\n",
    "\n",
    "    return X_normalized\n",
    "\n",
    "def generate_sets(Data_array, Size_trainset = 300, Perc_validationset = 0.8):\n",
    "    \"\"\"\n",
    "    This method will use normalize_data to normalise the data in Data_array.\n",
    "    Besides it will splitt the data into the training, validation and test sets\n",
    "    \n",
    "    Parameter(s)\n",
    "    -----------\n",
    "    Data_array: array\n",
    "        An array with data points which will need to be normalised and split \n",
    "    Size_trainset: int\n",
    "        An intiger defining the size of the trainingset. The trainingset will contain Size_trainingset rows\n",
    "    Data_array: float\n",
    "        A float defining the size of the validation set. After splitting the trainingset, the other rows will be divided in a validation and test set. \n",
    "        Data_arrat is the percentage that will end up in the validation set.\n",
    "        \n",
    "    Return(s)\n",
    "    ----------\n",
    "    X_train_cancer: array\n",
    "        An array containing the normalised values of array Data_array\n",
    "    X_validate_cancer\n",
    "        An array containing the normalised values of array Data_array\n",
    "    X_test_cancer\n",
    "        An array containing the normalised values of array Data_array\n",
    "    y_train_cancer\n",
    "        An array containing the tagerts of X_train_cancer\n",
    "    y_validate_cancer\n",
    "        An array containing the tagerts of X_validate_cancer\n",
    "    y_test_cancer\n",
    "        An array containing the tagerts of X_test_cancer\n",
    "    \"\"\"\n",
    "    # normalise dataset\n",
    "    Data = Data_array.data\n",
    "    X_normalized = normalize_data(Data_array)\n",
    "        \n",
    "    # Load targets \n",
    "    y_train = Data_array.target[:Size_trainset]\n",
    "    y_interim = Data_array.target[Size_trainset:]\n",
    "    y_validate = y_interim[:int(Perc_validationset*len(y_interim))]\n",
    "    y_test = y_interim[int(Perc_validationset*len(y_interim)):]\n",
    "    \n",
    "    # Split the data into training and testing sets\n",
    "    # The first 300 patients will be used as training set\n",
    "    X_train = X_normalized[:Size_trainset]\n",
    "    X_interim = X_normalized[Size_trainset:]\n",
    "    X_validate = X_interim[:int(Perc_validationset*len(X_interim))]\n",
    "    X_test = X_interim[int(Perc_validationset*len(X_interim)):]\n",
    "\n",
    "    return X_train, X_validate, X_test, y_train, y_validate, y_test"
   ]
  },
  {
   "cell_type": "code",
   "execution_count": 11,
   "metadata": {},
   "outputs": [],
   "source": [
    "#Make the normalized test, validation and test sets\n",
    "X_train, X_validate, X_test, y_train, y_validate, y_test = generate_sets(breast_cancer)"
   ]
  },
  {
   "cell_type": "code",
   "execution_count": 7,
   "metadata": {},
   "outputs": [],
   "source": [
    "def Euclidean_distance(x1, x2):\n",
    "    \"\"\"\n",
    "    This method calculates the euclidean distance between two points x1 and x2\n",
    "    \n",
    "    Parameter(s)\n",
    "    -----------\n",
    "    x1: array\n",
    "    x2: array\n",
    "        \n",
    "    Return(s)\n",
    "    ----------\n",
    "    eucl_dist: int\n",
    "        the euclidian distance between x1 and x2\n",
    "    \"\"\"\n",
    "    eucl_dist=np.sqrt(np.sum((x1 - x2) ** 2))\n",
    "    return eucl_dist\n",
    "\n",
    "# Define a function to make predictions using k-NN\n",
    "def predict_classification(X_train, y_train, X_validate, k=5):\n",
    "    \"\"\"\n",
    "    This method is a k-NN clasifier, which predict the label of the test points \n",
    "    based on the k-nearest neigbors.\n",
    "    \n",
    "    Parameter(s)\n",
    "    -----------\n",
    "    X_train: array\n",
    "        An array containing the normalised values of all features of the trainingset\n",
    "    y_train: array\n",
    "        An array containing the tagerts of X_train\n",
    "    X_validate: array\n",
    "        An array containing the normalised values  of all features of the validationset\n",
    "    k: int\n",
    "        number of neighbours is used to predict the label of the target class of the point\n",
    "    \n",
    "    Return(s)\n",
    "    np.array(y_pred): int\n",
    "        the predicted value for the points of the validation set\n",
    "\n",
    "    \"\"\"\n",
    "    y_pred = []\n",
    "    \n",
    "    for x in X_validate:\n",
    "        \n",
    "        # Compute distances between x and all examples in the training set\n",
    "        distances = [Euclidean_distance(x, x_train_single) for x_train_single in X_train]\n",
    "        \n",
    "        # Sort by distance and return indices of the first k neighbors\n",
    "        k_neighbors_indices = np.argsort(distances)[:k]\n",
    "        \n",
    "        # Extract the labels of the k nearest neighbor training samples\n",
    "        k_neighbor_labels = [y_train[i] for i in k_neighbors_indices]\n",
    "        \n",
    "        # Return the most common class label among the k neighbors\n",
    "        most_common = np.bincount(k_neighbor_labels).argmax()\n",
    "        y_pred.append(most_common)\n",
    "    \n",
    "    return np.array(y_pred)\n",
    "\n",
    "def Evaluate(y_true, y_pred):\n",
    "    \"\"\"\n",
    "    This is method determines the accuracy of the k-NN classifier based on\n",
    "    true labels and the predicted labels.\n",
    "    \n",
    "    Parameter(s)\n",
    "    y_true: array\n",
    "        An array of the true labels of the points\n",
    "    y_pred: array\n",
    "        An array of the predicted labels of the points\n",
    "        \n",
    "    Return(s)\n",
    "    acc: int\n",
    "        Accuracy of the k-NN clasifier\n",
    "    \"\"\"\n",
    "    n_correct = 0\n",
    "    for i in range(len(y_true)):\n",
    "        if y_true[i] == y_pred[i]:\n",
    "            n_correct += 1\n",
    "    if len(y_true) != 0:\n",
    "        acc = n_correct/len(y_true)\n",
    "    else:\n",
    "        acc = 0\n",
    "    return acc"
   ]
  },
  {
   "cell_type": "code",
   "execution_count": 8,
   "metadata": {},
   "outputs": [
    {
     "name": "stdout",
     "output_type": "stream",
     "text": [
      "Accuracy calculation for k-value 1 has been completed\n",
      "Accuracy calculation for k-value 6 has been completed\n",
      "Accuracy calculation for k-value 11 has been completed\n",
      "Accuracy calculation for k-value 16 has been completed\n",
      "Accuracy calculation for k-value 21 has been completed\n",
      "Accuracy calculation for k-value 26 has been completed\n"
     ]
    }
   ],
   "source": [
    "# Initialize a dictionary to store accuracy scores for each k value\n",
    "accuracy_scores = defaultdict(list)\n",
    "\n",
    "# Train and evaluate the k-NN classifier for different values of k\n",
    "# k values that we want to validate\n",
    "K_total = 30\n",
    "k_values=list(range(1,K_total));\n",
    "\n",
    "# Train and evaluate the k-NN classifier for different values of k\n",
    "for k in k_values:\n",
    "    y_pred = predict_classification(X_train, y_train, X_validate, k)\n",
    "    accuracy= Evaluate(y_validate, y_pred)\n",
    "    accuracy_scores[\"k\"].append(k)\n",
    "    accuracy_scores[\"accuracy\"].append(accuracy)\n",
    "    if k in list(range(1,K_total,5)):\n",
    "        print(\"Accuracy calculation for k-value\",k,\"has been completed\")"
   ]
  },
  {
   "cell_type": "code",
   "execution_count": 9,
   "metadata": {},
   "outputs": [
    {
     "name": "stdout",
     "output_type": "stream",
     "text": [
      "The most accuracte clasififaction is made with k = 3 with accuracy= 0.9813953488372092 for the validation set\n"
     ]
    },
    {
     "data": {
      "image/png": "[encoded data removed]",
      "text/plain": [
       "<Figure size 576x360 with 1 Axes>"
      ]
     },
     "metadata": {
      "needs_background": "light"
     },
     "output_type": "display_data"
    }
   ],
   "source": [
    "# Evaluate which value for k will generate the most accurate predictions on the validation set.\n",
    "maximum_accuracy = max(accuracy_scores[\"accuracy\"])\n",
    "best_k = accuracy_scores[\"accuracy\"].index(maximum_accuracy)+1\n",
    "\n",
    "print(\"The most accuracte clasififaction is made with k =\",best_k,\"with accuracy=\",maximum_accuracy,\"for the validation set\")\n",
    "\n",
    "#Plot the different accuracies \n",
    "plt.figure(figsize=(8, 5))\n",
    "plt.plot(accuracy_scores[\"k\"], accuracy_scores[\"accuracy\"], marker='o')\n",
    "plt.title('Accuracy vs. k Value for k-NN Classifier')\n",
    "plt.xlabel('k Value')\n",
    "plt.ylabel('Accuracy')\n",
    "plt.grid(True)\n",
    "plt.show()"
   ]
  },
  {
   "cell_type": "code",
   "execution_count": 10,
   "metadata": {},
   "outputs": [
    {
     "name": "stdout",
     "output_type": "stream",
     "text": [
      "Final accuracy for k = 3 is 0.9074074074074074\n"
     ]
    }
   ],
   "source": [
    "# Finally, we can test the accuracy of of the clasification with the test set.\n",
    "\n",
    "y_pred = predict_classification(X_train, y_train, X_test, best_k)\n",
    "final_accuracy= Evaluate(y_test, y_pred)\n",
    "print(\"Final accuracy for k =\",best_k,\"is\", final_accuracy)"
   ]
  },
  {
   "cell_type": "markdown",
   "metadata": {},
   "source": [
    "### $k$-NN regression\n",
    "\n",
    "Modify the $k$-NN implementation to do regression instead of classification. Compare the performance of the linear regression model and the $k$-NN regression model on the diabetes dataset for different values of $k$.."
   ]
  },
  {
   "cell_type": "code",
   "execution_count": 19,
   "metadata": {},
   "outputs": [],
   "source": [
    "#Make the normalized test, validation and test sets\n",
    "X_train_dia, X_validate_dia, X_test_dia, y_train_dia, y_validate_dia, y_test_dia = generate_sets(diabetes)"
   ]
  },
  {
   "cell_type": "code",
   "execution_count": 20,
   "metadata": {},
   "outputs": [],
   "source": [
    "def predict_regression(X_train, y_train, X_test, k=5):\n",
    "    \"\"\"\n",
    "    This method is a k-NN regressor, which predict the average target value \n",
    "    of the test points based on the k-nearest neigbors.\n",
    "    \n",
    "    Parameter(s)\n",
    "    -----------\n",
    "    X_train: array\n",
    "        An array containing the normalised values of all features of the trainingset\n",
    "    y_train: array\n",
    "        An array containing the tagerts of X_train\n",
    "    X_validate: array\n",
    "        An array containing the normalised values  of all features of the validationset\n",
    "    k: int\n",
    "        number of neighbours is used to predict the label of the target class of the point\n",
    "    \n",
    "    Return(s)\n",
    "    np.array(y_pred): int\n",
    "        the predicted value for the points of the validation set\n",
    "\n",
    "    \"\"\"\n",
    "    y_pred = []  \n",
    "    for x in X_test:\n",
    "        # Compute distances between x and all examples in the training set\n",
    "        distances = [Euclidean_distance(x, x_train) for x_train in X_train]\n",
    "        \n",
    "        # Sort by distance and return indices of the first k neighbors\n",
    "        k_neighbors_indices = np.argsort(distances)[:k]\n",
    "        \n",
    "        #calculate average  distance\n",
    "        k_neighbor_values = [y_train[i] for i in k_neighbors_indices]\n",
    "        predicted_value = np.mean(k_neighbor_values)\n",
    "        y_pred.append(predicted_value)\n",
    "\n",
    "    return np.array(y_pred)\n",
    "\n",
    "def mse_score(y_true, y_pred):\n",
    "    \"\"\"\n",
    "    Method to determine the mean squared error of the k-NN regressor\n",
    "    \n",
    "    Parameter(s)\n",
    "    -----------\n",
    "    y_true: array\n",
    "        An array of the true labels of the points\n",
    "    y_pred: array\n",
    "        An array of the predicted labels of the points\n",
    "        \n",
    "    Return(s)\n",
    "    ----------\n",
    "    mse: int\n",
    "        The Mean Squared Error\n",
    "    \"\"\"\n",
    "    mse=np.square(np.subtract(y_true,y_pred)).mean()\n",
    "    return mse\n",
    "\n"
   ]
  },
  {
   "cell_type": "code",
   "execution_count": 26,
   "metadata": {},
   "outputs": [],
   "source": [
    "# Initialize a dictionary to store mse scores for each k value\n",
    "mse_scores = defaultdict(list)\n",
    "\n",
    "# Train and evaluate the k-NN regressor for different values of k\n",
    "# k values that we want to validate\n",
    "K_total = 30\n",
    "k_values=list(range(1,K_total));\n",
    "\n",
    "# Train and evaluate the k-NN regressor for different values of k\n",
    "for k in k_values:\n",
    "    y_pred_reg = predict_regression(X_train_dia, y_train_dia, X_validate_dia, k)\n",
    "    mse = mse_score(y_validate_dia, y_pred_reg)\n",
    "    mse_scores[\"k\"].append(k)\n",
    "    mse_scores[\"mse\"].append(mse)"
   ]
  },
  {
   "cell_type": "code",
   "execution_count": 27,
   "metadata": {},
   "outputs": [
    {
     "name": "stdout",
     "output_type": "stream",
     "text": [
      "The most accuracte regression is made with k = 10 with mse= 2750.7733628318592 for the validation set\n"
     ]
    },
    {
     "data": {
      "image/png": "[encoded data removed]",
      "text/plain": [
       "<Figure size 576x360 with 1 Axes>"
      ]
     },
     "metadata": {
      "needs_background": "light"
     },
     "output_type": "display_data"
    }
   ],
   "source": [
    "# Evaluate which value for k will generate the most accurate predictions on the validation set.\n",
    "minimum_mse = min(mse_scores[\"mse\"])\n",
    "best_k = mse_scores[\"mse\"].index(minimum_mse)+1\n",
    "\n",
    "print(\"The most accuracte regression is made with k =\",best_k,\"with mse=\",minimum_mse,\"for the validation set\")\n",
    "\n",
    "\n",
    "plt.figure(figsize=(8, 5))\n",
    "plt.plot(mse_scores[\"k\"], mse_scores[\"mse\"], marker='o')\n",
    "plt.title('Mse vs. k Value for k-NN Regressor')\n",
    "plt.xlabel('k Value')\n",
    "plt.ylabel('Mse')\n",
    "plt.grid(True)\n",
    "plt.show()"
   ]
  },
  {
   "cell_type": "code",
   "execution_count": 31,
   "metadata": {},
   "outputs": [
    {
     "name": "stdout",
     "output_type": "stream",
     "text": [
      "Final mse for k = 10 is 2004.2851724137931\n"
     ]
    }
   ],
   "source": [
    "# Finally, we can test the mse of the regressor with the test set.\n",
    "y_pred_test=predict_regression(X_train_dia, y_train_dia, X_test_dia, best_k)\n",
    "final_mse= mse_score(y_test_dia, y_pred_test)\n",
    "print(\"Final mse for k =\",best_k,\"is\", final_mse)"
   ]
  },
  {
   "cell_type": "markdown",
   "metadata": {},
   "source": [
    "### Class-conditional probability\n",
    "\n",
    "Compute and visualize the class-conditional probability (conditional probability where the class label is the conditional variable, i.e. $P(X = x \\mid Y = y_i)$ for all features in the breast cancer dataset. Assume a Gaussian distribution.\n",
    "\n",
    "<p><font color='#770a0a'>Based on visual analysis of the plots, which individual feature can best discriminate between the two classes? Motivate your answer.</font></p>\n",
    "\n"
   ]
  }
 ],
 "metadata": {
  "kernelspec": {
   "display_name": "Python 3",
   "language": "python",
   "name": "python3"
  },
  "language_info": {
   "codemirror_mode": {
    "name": "ipython",
    "version": 3
   },
   "file_extension": ".py",
   "mimetype": "text/x-python",
   "name": "python",
   "nbconvert_exporter": "python",
   "pygments_lexer": "ipython3",
   "version": "3.8.8"
  }
 },
 "nbformat": 4,
 "nbformat_minor": 4
}

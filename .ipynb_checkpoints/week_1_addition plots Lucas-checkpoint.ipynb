{
 "cells": [
  {
   "cell_type": "markdown",
   "metadata": {},
   "source": [
    "# Getting started with the practicals\n",
    "\n",
    "***These notebooks are best viewed in Jupyter. GitHub might not display all content of the notebook properly.***\n",
    "\n",
    "## Goal of the practical exercises\n",
    "\n",
    "The exercises have two goals:\n",
    "\n",
    "1. Give you the opportunity to obtain 'hands-on' experience in implementing, training and evaluation machine learning models in Python. This experience will also help you better understand the theory covered during the lectures. \n",
    "\n",
    "2. Occasionally demonstrate some 'exam-style' questions that you can use as a reference when studying for the exam. Note however that the example questions are (as the name suggests) only examples and do not constitute a complete and sufficient list of 'things that you have to learn for the exam'. You can recognize example questions as (parts of) exercises by <font color=\"#770a0a\">this font color</font>.\n",
    "\n",
    "For each set of exercises (one Python notebook such as this one $==$ one set of exercises) you have to submit deliverables that will then be graded and constitute 25% of the final grade. Thus, the work that you do during the practicals has double contribution towards the final grade: as 25% direct contribution and as a preparation for the exam that will define the other 65% of the grade.\n",
    "\n",
    "## Deliverables\n",
    "\n",
    "For each set of exercises, you have to submit:\n",
    "1. Python functions and/or classes (`.py` files) that implement basic functionalities (e.g. a $k$-NN classifier) and \n",
    "2. A *single* Python notebook that contains the experiments, visualization and answer to the questions and math problems. *Do not submit your answers as Word or PDF documents (they will not be graded)*. The submitted code and notebook should run without errors and be able to fully reproduce the reported results.\n",
    "\n",
    "We recommend that you clone the provided notebooks (such as this one) and write your code in them. The following rubric will be used when grading the practical work:\n",
    "\n",
    "Component  | Insufficient | Satisfactory | Excellent\n",
    "--- | --- | --- | ---\n",
    "**Code** | Missing or incomplete code structure, runs with errors, lacks documentation | Self-contained, does not result in errors, contains some documentation, can be easily used to reproduce the reported results | User-friendly, well-structured (good separation of general functionality and experiments, i.e. between `.py` files and the Pyhthon notebook), detailed documentation, optimized for speed, <s>use of a version control system (such as GitHub)</s>\n",
    "**Answers to questions** | Incorrect, does not convey understanding of the material, appears to be copied from another source | Correct, conveys good understanding of the material, description in own words | Correct, conveys excellent level of understanding, makes connections between topics\n",
    "\n",
    "## A word on notation\n",
    "\n",
    "When we refer to Python variables, we will use a monospace font. For example, `X` is a Python variable that contains the data matrix. When we refer to mathematical variables, we will use the de-facto standard notation: $a$ or $\\lambda$ is a scalar variable, $\\boldsymbol{\\mathrm{w}}$ is a vector and $\\boldsymbol{\\mathrm{X}}$ is a matrix (e.g. a data matrix from the example above). You should use the same notation when writing your answers and solutions.\n",
    "\n",
    "# Two simple machine learning models\n",
    "\n",
    "## Preliminaries\n",
    "\n",
    "Throughout the practical curriculum of this course, we will use the Python programming language and its ecosystem of libraries for scientific computing (such as `numpy`, `scipy`, `matplotlib`, `scikit-learn` etc). The practicals for the deep learning part of the course will use the `keras` deep learning framework. If you are not sufficiently familiar with this programming language and/or the listed libraries and packages, you are strongly advised to go over the corresponding tutorials from the ['Essential skills'](https://github.com/tueimage/essential-skills) module (the `scikit-learn` library is not covered by the tutorial, however, an extensive documentation is available [here](https://scikit-learn.org/stable/documentation.html).\n",
    "\n",
    "In this first set of exercises, we will use two toy datasets that ship together with `scikit-learn`. \n",
    "\n",
    "The first dataset is named `diabetes` and contains 442 patients described with 10 features: age, sex, body mass index, average blood pressure, and six blood serum measurements. The target variable is a continuous quantitative measure of the disease (diabetes) progression one year after the baseline measurements were recorded. More information is available [here](https://github.com/scikit-learn/scikit-learn/blob/master/sklearn/datasets/descr/diabetes.rst) and [here](https://www4.stat.ncsu.edu/~boos/var.select/diabetes.html).\n",
    "\n",
    "The second dataset is named `breast_cancer` and is a copy of the UCI ML Breast Cancer Wisconsin (Diagnostic) datasets (more infortmation is available [here](https://github.com/scikit-learn/scikit-learn/blob/master/sklearn/datasets/descr/breast_cancer.rst) and [here](https://archive.ics.uci.edu/ml/datasets/Breast+Cancer+Wisconsin+(Diagnostic)). The datasets contains of 569 instances represented with 30 features that are computed from a images of a fine needle aspirate of a breast mass. The features describe characteristics of the cell nuclei present in the image. Each instance is associated with a binary target variable ('malignant' or 'benign'). \n",
    "\n",
    "You can load the two datasets in the following way:"
   ]
  },
  {
   "cell_type": "code",
   "execution_count": 12,
   "metadata": {},
   "outputs": [],
   "source": [
    "import numpy as np\n",
    "from sklearn.datasets import load_diabetes, load_breast_cancer\n",
    "import matplotlib.pyplot as plt\n",
    "from scipy.stats import norm\n",
    "\n",
    "diabetes = load_diabetes()\n",
    "\n",
    "breast_cancer = load_breast_cancer()"
   ]
  },
  {
   "cell_type": "markdown",
   "metadata": {},
   "source": [
    "In the majority of the exercises in this course, we will use higher-level libraries and packages such as `scikit-learn` and `keras` to implement, train and evaluate machine learning models. However, the goal of this first set of exercises is to illustrate basic mathematical tools and machine learning concepts. Because of this, we will impose a restriction of only using basic `numpy` functionality. Furthermore, you should as much as possible restrict the use of for-loops (e.g. use a vector-to-matrix product instead of a for loop when appropriate).\n",
    "\n",
    "If `X` is a 2D data matrix, we will use the convention that the rows of the matrix contain the samples (or instances) and the columns contain the features (inputs to the model). That means that a data matrix with a shape `(122, 13)` represents a dataset with 122 samples, each represented with 13 features. Similarly, if `Y` is a 2D matrix containing the targets, the rows correspond to the samples and the columns to the different targets (outputs of the model). Thus, if the shape of `Y` is `(122, 3)` that means that there are 122 samples and each sample is has 3 targets (note that in the majority of the examples we will only have a single target and thus the number of columns of `Y` will be 1).\n",
    "\n",
    "You can obtain the data and target matrices from the two datasets in the following way:"
   ]
  },
  {
   "cell_type": "code",
   "execution_count": 2,
   "metadata": {},
   "outputs": [
    {
     "name": "stdout",
     "output_type": "stream",
     "text": [
      "(442, 10)\n",
      "(442, 1)\n"
     ]
    }
   ],
   "source": [
    "X = diabetes.data\n",
    "Y = diabetes.target[:, np.newaxis]\n",
    "\n",
    "print(X.shape)\n",
    "print(Y.shape)"
   ]
  },
  {
   "cell_type": "markdown",
   "metadata": {},
   "source": [
    "If you want to only use a subset of the available features, you can obtain a reduced data matrix in the following way:"
   ]
  },
  {
   "cell_type": "code",
   "execution_count": 8,
   "metadata": {
    "scrolled": true
   },
   "outputs": [
    {
     "name": "stdout",
     "output_type": "stream",
     "text": [
      "(442, 1)\n",
      "(442, 2)\n"
     ]
    }
   ],
   "source": [
    "# use only the fourth feature\n",
    "X = diabetes.data[:, np.newaxis, 3]\n",
    "print(X.shape)\n",
    "\n",
    "# use the third, and tenth features\n",
    "X = diabetes.data[:, (3,9)]\n",
    "print(X.shape)"
   ]
  },
  {
   "cell_type": "markdown",
   "metadata": {},
   "source": [
    "***Question***: Why we need to use the `np.newaxis` expression in the examples above? \n",
    "\n",
    "**Answer**: 'np.newaxis' is used to add an extra dimension to the data array. It converts the 1D array into a 2D array to make it a vector. \n",
    "\n",
    "\n",
    "Note that in all your experiments in the exercises, you should use and independent training and testing sets. You can split the dataset into a training and testing subsets in the following way:"
   ]
  },
  {
   "cell_type": "code",
   "execution_count": 9,
   "metadata": {},
   "outputs": [
    {
     "name": "stdout",
     "output_type": "stream",
     "text": [
      "(300, 1)\n",
      "(300, 1)\n",
      "(142, 1)\n",
      "(142, 1)\n"
     ]
    }
   ],
   "source": [
    "# use the fourth feature\n",
    "# use the first 300 training samples for training, and the rest for testing\n",
    "X_train = diabetes.data[:300, np.newaxis, 3]\n",
    "y_train = diabetes.target[:300, np.newaxis]\n",
    "X_test = diabetes.data[300:, np.newaxis, 3]\n",
    "y_test = diabetes.target[300:, np.newaxis]\n",
    "print(X_train.shape)\n",
    "print(y_train.shape)\n",
    "print(X_test.shape)\n",
    "print(y_test.shape)"
   ]
  },
  {
   "cell_type": "markdown",
   "metadata": {},
   "source": [
    "## Exercises\n",
    "\n",
    "### Linear regression\n",
    "\n",
    "Implement training and evaluation of a linear regression model on the diabetes dataset using only matrix multiplication, inversion and transpose operations. Report the mean squared error of the model.\n",
    "\n",
    "To get you started we have implemented the first part of this exercise (fitting of the model) as an example."
   ]
  },
  {
   "cell_type": "code",
   "execution_count": 10,
   "metadata": {},
   "outputs": [],
   "source": [
    "# add subfolder that contains all the function implementations\n",
    "# to the system path so we can import them\n",
    "import sys\n",
    "#path = r\"8dm50-machine-learning/practicals/code\"\n",
    "#sys.path.append(path)"
   ]
  },
  {
   "cell_type": "code",
   "execution_count": 11,
   "metadata": {},
   "outputs": [
    {
     "ename": "NameError",
     "evalue": "name 'np' is not defined",
     "output_type": "error",
     "traceback": [
      "\u001b[1;31m---------------------------------------------------------------------------\u001b[0m",
      "\u001b[1;31mNameError\u001b[0m                                 Traceback (most recent call last)",
      "\u001b[1;32m<ipython-input-11-eb740f4702aa>\u001b[0m in \u001b[0;36m<module>\u001b[1;34m\u001b[0m\n\u001b[0;32m     10\u001b[0m \u001b[0my_lest\u001b[0m \u001b[1;33m=\u001b[0m \u001b[0mdiabetes\u001b[0m\u001b[1;33m.\u001b[0m\u001b[0mtarget\u001b[0m\u001b[1;33m[\u001b[0m\u001b[1;36m300\u001b[0m\u001b[1;33m:\u001b[0m\u001b[1;33m,\u001b[0m \u001b[0mnp\u001b[0m\u001b[1;33m.\u001b[0m\u001b[0mnewaxis\u001b[0m\u001b[1;33m]\u001b[0m\u001b[1;33m\u001b[0m\u001b[1;33m\u001b[0m\u001b[0m\n\u001b[0;32m     11\u001b[0m \u001b[1;33m\u001b[0m\u001b[0m\n\u001b[1;32m---> 12\u001b[1;33m \u001b[0mbeta\u001b[0m \u001b[1;33m=\u001b[0m \u001b[0mlsq\u001b[0m\u001b[1;33m(\u001b[0m\u001b[0mX_train\u001b[0m\u001b[1;33m,\u001b[0m \u001b[0my_train\u001b[0m\u001b[1;33m)\u001b[0m\u001b[1;33m\u001b[0m\u001b[1;33m\u001b[0m\u001b[0m\n\u001b[0m\u001b[0;32m     13\u001b[0m \u001b[1;33m\u001b[0m\u001b[0m\n\u001b[0;32m     14\u001b[0m \u001b[1;31m# print the parameters\u001b[0m\u001b[1;33m\u001b[0m\u001b[1;33m\u001b[0m\u001b[1;33m\u001b[0m\u001b[0m\n",
      "\u001b[1;32m~\\OneDrive - TU Eindhoven\\Documents\\GitHub\\8DM50\\linear_regression.py\u001b[0m in \u001b[0;36mlsq\u001b[1;34m(X, y)\u001b[0m\n\u001b[0;32m      8\u001b[0m \u001b[1;33m\u001b[0m\u001b[0m\n\u001b[0;32m      9\u001b[0m     \u001b[1;31m# add column of ones for the intercept\u001b[0m\u001b[1;33m\u001b[0m\u001b[1;33m\u001b[0m\u001b[1;33m\u001b[0m\u001b[0m\n\u001b[1;32m---> 10\u001b[1;33m     \u001b[0mones\u001b[0m \u001b[1;33m=\u001b[0m \u001b[0mnp\u001b[0m\u001b[1;33m.\u001b[0m\u001b[0mones\u001b[0m\u001b[1;33m(\u001b[0m\u001b[1;33m(\u001b[0m\u001b[0mlen\u001b[0m\u001b[1;33m(\u001b[0m\u001b[0mX\u001b[0m\u001b[1;33m)\u001b[0m\u001b[1;33m,\u001b[0m \u001b[1;36m1\u001b[0m\u001b[1;33m)\u001b[0m\u001b[1;33m)\u001b[0m\u001b[1;33m\u001b[0m\u001b[1;33m\u001b[0m\u001b[0m\n\u001b[0m\u001b[0;32m     11\u001b[0m     \u001b[0mX\u001b[0m \u001b[1;33m=\u001b[0m \u001b[0mnp\u001b[0m\u001b[1;33m.\u001b[0m\u001b[0mconcatenate\u001b[0m\u001b[1;33m(\u001b[0m\u001b[1;33m(\u001b[0m\u001b[0mones\u001b[0m\u001b[1;33m,\u001b[0m \u001b[0mX\u001b[0m\u001b[1;33m)\u001b[0m\u001b[1;33m,\u001b[0m \u001b[0maxis\u001b[0m\u001b[1;33m=\u001b[0m\u001b[1;36m1\u001b[0m\u001b[1;33m)\u001b[0m\u001b[1;33m\u001b[0m\u001b[1;33m\u001b[0m\u001b[0m\n\u001b[0;32m     12\u001b[0m \u001b[1;33m\u001b[0m\u001b[0m\n",
      "\u001b[1;31mNameError\u001b[0m: name 'np' is not defined"
     ]
    }
   ],
   "source": [
    "# the actual implementation is in linear_regression.py,\n",
    "# here we will just use it to fit a model\n",
    "from linear_regression import *\n",
    "\n",
    "# load the dataset\n",
    "# same as before, but now we use all features\n",
    "X_train = diabetes.data[:300, :]\n",
    "y_train = diabetes.target[:300, np.newaxis]\n",
    "X_test = diabetes.data[300:, :]\n",
    "y_lest = diabetes.target[300:, np.newaxis]\n",
    "\n",
    "beta = lsq(X_train, y_train)\n",
    "\n",
    "# print the parameters\n",
    "print(beta)"
   ]
  },
  {
   "cell_type": "markdown",
   "metadata": {},
   "source": [
    "#### Mean Squared error of model"
   ]
  },
  {
   "cell_type": "code",
   "execution_count": null,
   "metadata": {},
   "outputs": [],
   "source": [
    "# Calcuate the mean squared error of the model with a function in linear_regression.py\n",
    "mse_train=mean_squared_error(X_train, y_train, beta)\n",
    "print('The mean squared error on training data is:', mse_train)\n",
    "\n",
    "# Calculate the mean square error on the test data\n",
    "mse_test=mean_squared_error(X_test, y_test, beta)\n",
    "print('The mean squared error on test data is:', mse_test)"
   ]
  },
  {
   "cell_type": "markdown",
   "metadata": {},
   "source": [
    "### Weighted linear regression\n",
    "\n",
    "Assume that in the dataset that you use to train a linear regression model, there are identical versions of some samples. This problem can be reformulated to a weighted linear regression problem where the matrices $\\boldsymbol{\\mathrm{X}}$ and $\\boldsymbol{\\mathrm{Y}}$ (or the vector $\\boldsymbol{\\mathrm{y}}$ if there is only a single target/output variable) contain only the unique data samples, and a vector $\\boldsymbol{\\mathrm{d}}$ is introduced that gives more weight to samples that appear multiple times in the original dataset (for example, the sample that appears 3 times has a corresponding weight of 3). \n",
    "\n",
    "<p><font color='#770a0a'>Derive the expression for the least-squares solution of a weighted linear regression model (note that in addition to the matrices $\\boldsymbol{\\mathrm{X}}$ and $\\boldsymbol{\\mathrm{Y}}$, the solution should include a vector of weights $\\boldsymbol{\\mathrm{d}}$).</font></p>"
   ]
  },
  {
   "cell_type": "markdown",
   "metadata": {},
   "source": [
    "Since we now have a weighting vector $\\boldsymbol{\\mathrm{d}}$, \n",
    "\n",
    "$\\hat{y} = \\boldsymbol{\\mathrm{X}^{T}}\\boldsymbol{\\mathrm{d}}\\boldsymbol{\\hat{\\mathrm{w}}}$.\n",
    "\n",
    "When we want to calculate the residual sum of squares, this gives:\n",
    "\n",
    "$RSS(\\boldsymbol{\\mathrm{w}}) = \\sum \\limits_{i=1}^{N} (y_{i}-\\boldsymbol{\\mathrm{x}}_{i}^{T}\\boldsymbol{\\mathrm{d}}\\boldsymbol{\\mathrm{w}})^{2}$ \n",
    "\n",
    "or in matrix notation \n",
    "$ RSS(\\boldsymbol{\\mathrm{w}}) = (\\boldsymbol{\\mathrm{y}} - \\boldsymbol{\\mathrm{X}}\\boldsymbol{\\mathrm{d}}\\boldsymbol{\\mathrm{w}})^{T}(\\boldsymbol{\\mathrm{y}} - \\boldsymbol{\\mathrm{X}}\\boldsymbol{\\mathrm{d}}\\boldsymbol{\\mathrm{w}})$.\n",
    "\n",
    "To find the minimum we need to differentiate with respect to w, which gives \n",
    "\n",
    "$ -2\\boldsymbol{\\mathrm{X}}^T\\boldsymbol{\\mathrm{d}}(\\boldsymbol{\\mathrm{y}} - \\boldsymbol{\\mathrm{X}}\\boldsymbol{\\mathrm{w}})$.\n",
    "\n",
    "To find the minimum, the derivative must be 0, so\n",
    "\n",
    "$ -2\\boldsymbol{\\mathrm{X}}^T\\boldsymbol{\\mathrm{d}}(\\boldsymbol{\\mathrm{y}} - \\boldsymbol{\\mathrm{X}}\\boldsymbol{\\mathrm{w}}) = 0$\n",
    "\n",
    "$ \\boldsymbol{\\mathrm{X}}^T\\boldsymbol{\\mathrm{d}}(\\boldsymbol{\\mathrm{y}} - \\boldsymbol{\\mathrm{X}}\\boldsymbol{\\mathrm{w}}) = 0$\n",
    "\n",
    "$ \\boldsymbol{\\mathrm{X}}^T\\boldsymbol{\\mathrm{d}}\\boldsymbol{\\mathrm{y}} - \\boldsymbol{\\mathrm{X}}^T\\boldsymbol{\\mathrm{d}}\\boldsymbol{\\mathrm{X}}\\boldsymbol{\\mathrm{w}} = 0$\n",
    "\n",
    "$\\boldsymbol{\\mathrm{X}}^T\\boldsymbol{\\mathrm{d}}\\boldsymbol{\\mathrm{y}} = \\boldsymbol{\\mathrm{X}}^T\\boldsymbol{\\mathrm{d}}\\boldsymbol{\\mathrm{X}}\\boldsymbol{\\mathrm{w}} $\n",
    "\n",
    "If $\\boldsymbol{\\mathrm{X}}^T\\boldsymbol{\\mathrm{d}}\\boldsymbol{\\mathrm{X}}$ is non-singular there exists a unique solution given by\n",
    "\n",
    "$\\boldsymbol{\\mathrm{\\hat{w}}} = (\\boldsymbol{\\mathrm{X}}^T\\boldsymbol{\\mathrm{d}}\\boldsymbol{\\mathrm{X}})^{-1} \\boldsymbol{\\mathrm{X}}^T\\boldsymbol{\\mathrm{d}}\\boldsymbol{\\mathrm{y}} $"
   ]
  },
  {
   "cell_type": "markdown",
   "metadata": {},
   "source": [
    "### $k$-NN classification\n",
    "\n",
    "Implement a $k$-Nearest neighbors classifier from scratch in Python using only basic matrix operations with `numpy` and `scipy`. Train and evaluate the classifier on the breast cancer dataset, using all features. Show the performance of the classifier for different values of $k$ (plot the results in a graph). Note that for optimal results, you should normalize the features (e.g. to the $[0, 1]$ range or to have a zero mean and unit standard deviation)."
   ]
  },
  {
   "cell_type": "code",
   "execution_count": null,
   "metadata": {},
   "outputs": [],
   "source": [
    "import numpy as np\n",
    "import matplotlib.pyplot as plt\n",
    "import scipy.spatial\n",
    "from collections import Counter\n",
    "from sklearn.preprocessing import StandardScaler\n",
    "from sklearn.model_selection import train_test_split\n",
    "from collections import defaultdict"
   ]
  },
  {
   "cell_type": "code",
   "execution_count": null,
   "metadata": {},
   "outputs": [],
   "source": [
    "# Define normalisation, then use it to split the array in its defined sets, train, validation and test\n",
    "# Make the normalized test, validation and test sets\n",
    "X_train, X_validate, X_test, y_train, y_validate, y_test = generate_sets(breast_cancer)"
   ]
  },
  {
   "cell_type": "code",
   "execution_count": null,
   "metadata": {},
   "outputs": [],
   "source": [
    "# Initialize a dictionary to store accuracy scores for each k value\n",
    "accuracy_scores = defaultdict(list)\n",
    "\n",
    "# Train and evaluate the k-NN classifier for different values of k\n",
    "# k values that we want to validate\n",
    "K_total = 30\n",
    "k_values=list(range(1,K_total));\n",
    "\n",
    "# Train and evaluate the k-NN classifier for different values of k\n",
    "for k in k_values:\n",
    "    y_pred = predict_classification(X_train, y_train, X_validate, k)\n",
    "    accuracy= Evaluate(y_validate, y_pred)\n",
    "    accuracy_scores[\"k\"].append(k)\n",
    "    accuracy_scores[\"accuracy\"].append(accuracy)\n",
    "    if k in list(range(1,K_total,5)):\n",
    "        print(\"Accuracy calculation for k-value\",k,\"has been completed\")"
   ]
  },
  {
   "cell_type": "code",
   "execution_count": null,
   "metadata": {},
   "outputs": [],
   "source": [
    "# Evaluate which value for k will generate the most accurate predictions on the validation set.\n",
    "maximum_accuracy = max(accuracy_scores[\"accuracy\"])\n",
    "best_k = accuracy_scores[\"accuracy\"].index(maximum_accuracy)+1\n",
    "\n",
    "print(\"The most accuracte clasififaction is made with k =\",best_k,\"with accuracy=\",maximum_accuracy,\"for the validation set\")\n",
    "\n",
    "#Plot the different accuracies \n",
    "plt.figure(figsize=(8, 5))\n",
    "plt.plot(accuracy_scores[\"k\"], accuracy_scores[\"accuracy\"], marker='o')\n",
    "plt.title('Accuracy vs. k Value for k-NN Classifier')\n",
    "plt.xlabel('k Value')\n",
    "plt.ylabel('Accuracy')\n",
    "plt.grid(True)\n",
    "plt.show()"
   ]
  },
  {
   "cell_type": "code",
   "execution_count": null,
   "metadata": {},
   "outputs": [],
   "source": [
    "# Finally, we can test the accuracy of of the clasification with the test set.\n",
    "\n",
    "y_pred = predict_classification(X_train, y_train, X_test, best_k)\n",
    "final_accuracy= Evaluate(y_test, y_pred)\n",
    "print(\"Final accuracy for k =\",best_k,\"is\", final_accuracy)\n",
    "\n",
    "import matplotlib.pyplot as plt\n",
    "import numpy as np\n",
    "\n",
    "\n",
    "# To visualise the predictions a figure with three plots is made;\n",
    "# plot 1) Visualises the correct classes from the test set\n",
    "# plot 2) Visualises the predicted classes from the test set\n",
    "# plot 3) Visualises the difference between plot 1 and 2, red data points are incorrectly predicted classes.\n",
    "\n",
    "\n",
    "plt.figure(figsize=(12,3.5))\n",
    "Correct_pred = []\n",
    "for i in range(y_test.size):\n",
    "    if y_test[i] == y_pred[i]:\n",
    "        Correct_pred.append(\"green\")\n",
    "    else:\n",
    "        Correct_pred.append(\"red\")\n",
    "\n",
    "data = {'label_test': y_test,\n",
    "        'label_pred': y_pred,\n",
    "        'correct': Correct_pred,\n",
    "        'x': X_test.transpose()[4],\n",
    "        'y': X_test.transpose()[3]}\n",
    "plt.subplot(131)\n",
    "plt.title(\"Correct test class\", color=\"grey\", style='italic')\n",
    "\n",
    "scatter = plt.scatter('x', 'y', c='label_test', data=data)\n",
    "plt.xlabel('Smoothness (normalised)')\n",
    "plt.ylabel('Area (normalised)')\n",
    "plt.legend(handles=scatter.legend_elements()[0], \n",
    "           title=\"class\",labels=['Benign','Malignant'])\n",
    "\n",
    "plt.subplot(132)\n",
    "plt.title(\"Predicted class\", color=\"grey\", style='italic')\n",
    "scatter2 = plt.scatter('x', 'y', c='label_pred', data=data)\n",
    "plt.xlabel('Smoothness (normalised)')\n",
    "plt.ylabel('Area (normalised)')\n",
    "plt.legend(handles=scatter2.legend_elements()[0], \n",
    "           title=\"class\",labels=['Benign','Malignant'])\n",
    "\n",
    "\n",
    "plt.subplot(133)\n",
    "plt.title(\"Correctness redicted class,\\ncorrect (green) vs incorrect (red)\", color=\"grey\", style='italic')\n",
    "scatter3 = plt.scatter('x', 'y', c='correct', data=data)\n",
    "plt.xlabel('Smoothness (normalised)')\n",
    "plt.ylabel('Area (normalised)')\n",
    "\n",
    "\n",
    "plt.suptitle(\"Correct vs Predicted class, based on KNN-clasifier with optimal k-value (k=3)\",y=1.05)\n",
    "\n",
    "plt.show()"
   ]
  },
  {
   "cell_type": "markdown",
   "metadata": {},
   "source": [
    "### $k$-NN regression\n",
    "\n",
    "Modify the $k$-NN implementation to do regression instead of classification. Compare the performance of the linear regression model and the $k$-NN regression model on the diabetes dataset for different values of $k$.."
   ]
  },
  {
   "cell_type": "code",
   "execution_count": null,
   "metadata": {},
   "outputs": [],
   "source": [
    "#Make the normalized test, validation and test sets\n",
    "X_train_dia, X_validate_dia, X_test_dia, y_train_dia, y_validate_dia, y_test_dia = generate_sets(diabetes)"
   ]
  },
  {
   "cell_type": "code",
   "execution_count": null,
   "metadata": {},
   "outputs": [],
   "source": [
    "# Initialize a dictionary to store mse scores for each k value\n",
    "mse_scores = defaultdict(list)\n",
    "\n",
    "# Train and evaluate the k-NN regressor for different values of k\n",
    "# k values that we want to validate\n",
    "K_total = 30\n",
    "k_values=list(range(1,K_total));\n",
    "\n",
    "# Train and evaluate the k-NN regressor for different values of k\n",
    "for k in k_values:\n",
    "    y_pred_reg = predict_regression(X_train_dia, y_train_dia, X_validate_dia, k)\n",
    "    mse = mse_score(y_validate_dia, y_pred_reg)\n",
    "    mse_scores[\"k\"].append(k)\n",
    "    mse_scores[\"mse\"].append(mse)"
   ]
  },
  {
   "cell_type": "code",
   "execution_count": null,
   "metadata": {},
   "outputs": [],
   "source": [
    "# Evaluate which value for k will generate the most accurate predictions on the validation set.\n",
    "minimum_mse = min(mse_scores[\"mse\"])\n",
    "best_k = mse_scores[\"mse\"].index(minimum_mse)+1\n",
    "\n",
    "print(\"The most accuracte regression is made with k =\",best_k,\"with mse=\",minimum_mse,\"for the validation set\")\n",
    "\n",
    "\n",
    "plt.figure(figsize=(8, 5))\n",
    "plt.plot(mse_scores[\"k\"], mse_scores[\"mse\"], marker='o')\n",
    "plt.title('Mse vs. k Value for k-NN Regressor')\n",
    "plt.xlabel('k Value')\n",
    "plt.ylabel('Mse')\n",
    "plt.grid(True)\n",
    "plt.show()"
   ]
  },
  {
   "cell_type": "code",
   "execution_count": null,
   "metadata": {},
   "outputs": [],
   "source": [
    "# Finally, we can test the mse of the regressor with the test set.\n",
    "y_pred_test=predict_regression(X_train_dia, y_train_dia, X_test_dia, best_k)\n",
    "final_mse= mse_score(y_test_dia, y_pred_test)\n",
    "print(\"Final mse for k =\",best_k,\"is\", final_mse)"
   ]
  },
  {
   "cell_type": "markdown",
   "metadata": {},
   "source": [
    "### Class-conditional probability\n",
    "\n",
    "Compute and visualize the class-conditional probability (conditional probability where the class label is the conditional variable, i.e. $P(X = x \\mid Y = y_i)$ for all features in the breast cancer dataset. Assume a Gaussian distribution.\n",
    "\n",
    "<p><font color='#770a0a'>Based on visual analysis of the plots, which individual feature can best discriminate between the two classes? Motivate your answer.</font></p>\n",
    "\n"
   ]
  },
  {
   "cell_type": "code",
   "execution_count": null,
   "metadata": {},
   "outputs": [],
   "source": [
    "X = breast_cancer.data\n",
    "Y = breast_cancer.target[:, np.newaxis]\n",
    "\n",
    "cancer_index = np.where(Y == 1)[0]\n",
    "no_cancer_index = np.where(Y == 0)[0]\n",
    "\n",
    "cancer = X[cancer_index, :]\n",
    "no_cancer = X[no_cancer_index, :]"
   ]
  },
  {
   "cell_type": "code",
   "execution_count": null,
   "metadata": {},
   "outputs": [],
   "source": [
    "cancer_info = mean_and_std(cancer)\n",
    "no_cancer_info = mean_and_std(no_cancer)"
   ]
  },
  {
   "cell_type": "code",
   "execution_count": null,
   "metadata": {},
   "outputs": [],
   "source": [
    "k = 0\n",
    "figure, axis = plt.subplots(5, 6, figsize=(25,20))\n",
    "for i in range(5):\n",
    "    for j in range(6):\n",
    "        x_cancer = np.arange(15*-cancer_info[1][k],15*cancer_info[1][k],0.001)\n",
    "        x_no_cancer = np.arange(15*-no_cancer_info[1][k],15*no_cancer_info[1][k],0.001)\n",
    "        axis[i, j].plot(x_no_cancer, norm.pdf(x_no_cancer,no_cancer_info[0][k],no_cancer_info[1][k]))\n",
    "        axis[i, j].plot(x_cancer, norm.pdf(x_cancer,cancer_info[0][k],cancer_info[1][k]))\n",
    "        axis[i, j].set_title('Feature '+str(k+1))\n",
    "        axis[i, j].legend(['0', '1'])\n",
    "        k = k+1\n",
    "    \n",
    "plt.show()"
   ]
  },
  {
   "cell_type": "markdown",
   "metadata": {},
   "source": [
    "Judging from these plots, feature 28 seems to be able to discriminate best between the two classes. The distribution graphs have the least overlap, meaning that if the values for that feature fall within a certain range, they are more likely to fall into one class."
   ]
  }
 ],
 "metadata": {
  "kernelspec": {
   "display_name": "Python 3",
   "language": "python",
   "name": "python3"
  },
  "language_info": {
   "codemirror_mode": {
    "name": "ipython",
    "version": 3
   },
   "file_extension": ".py",
   "mimetype": "text/x-python",
   "name": "python",
   "nbconvert_exporter": "python",
   "pygments_lexer": "ipython3",
   "version": "3.6.13"
  }
 },
 "nbformat": 4,
 "nbformat_minor": 4
}
